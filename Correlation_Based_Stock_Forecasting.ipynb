{
  "nbformat": 4,
  "nbformat_minor": 0,
  "metadata": {
    "colab": {
      "name": "Correlation-Based Stock Forecasting.ipynb",
      "provenance": [],
      "collapsed_sections": []
    },
    "kernelspec": {
      "name": "python3",
      "display_name": "Python 3"
    },
    "language_info": {
      "name": "python"
    }
  },
  "cells": [
    {
      "cell_type": "code",
      "metadata": {
        "colab": {
          "base_uri": "https://localhost:8080/"
        },
        "id": "l35U0hToU_ja",
        "outputId": "ffa185c9-526b-4f41-f907-e906098f19ba"
      },
      "source": [
        "!pip install yfinance --upgrade --no-cache-dir"
      ],
      "execution_count": null,
      "outputs": [
        {
          "output_type": "stream",
          "text": [
            "Collecting yfinance\n",
            "  Downloading https://files.pythonhosted.org/packages/a7/ee/315752b9ef281ba83c62aa7ec2e2074f85223da6e7e74efb4d3e11c0f510/yfinance-0.1.59.tar.gz\n",
            "Requirement already satisfied, skipping upgrade: pandas>=0.24 in /usr/local/lib/python3.7/dist-packages (from yfinance) (1.1.5)\n",
            "Requirement already satisfied, skipping upgrade: numpy>=1.15 in /usr/local/lib/python3.7/dist-packages (from yfinance) (1.19.5)\n",
            "Requirement already satisfied, skipping upgrade: requests>=2.20 in /usr/local/lib/python3.7/dist-packages (from yfinance) (2.23.0)\n",
            "Requirement already satisfied, skipping upgrade: multitasking>=0.0.7 in /usr/local/lib/python3.7/dist-packages (from yfinance) (0.0.9)\n",
            "Collecting lxml>=4.5.1\n",
            "\u001b[?25l  Downloading https://files.pythonhosted.org/packages/cf/4d/6537313bf58fe22b508f08cf3eb86b29b6f9edf68e00454224539421073b/lxml-4.6.3-cp37-cp37m-manylinux1_x86_64.whl (5.5MB)\n",
            "\u001b[K     |████████████████████████████████| 5.5MB 11.4MB/s \n",
            "\u001b[?25hRequirement already satisfied, skipping upgrade: python-dateutil>=2.7.3 in /usr/local/lib/python3.7/dist-packages (from pandas>=0.24->yfinance) (2.8.1)\n",
            "Requirement already satisfied, skipping upgrade: pytz>=2017.2 in /usr/local/lib/python3.7/dist-packages (from pandas>=0.24->yfinance) (2018.9)\n",
            "Requirement already satisfied, skipping upgrade: idna<3,>=2.5 in /usr/local/lib/python3.7/dist-packages (from requests>=2.20->yfinance) (2.10)\n",
            "Requirement already satisfied, skipping upgrade: certifi>=2017.4.17 in /usr/local/lib/python3.7/dist-packages (from requests>=2.20->yfinance) (2020.12.5)\n",
            "Requirement already satisfied, skipping upgrade: chardet<4,>=3.0.2 in /usr/local/lib/python3.7/dist-packages (from requests>=2.20->yfinance) (3.0.4)\n",
            "Requirement already satisfied, skipping upgrade: urllib3!=1.25.0,!=1.25.1,<1.26,>=1.21.1 in /usr/local/lib/python3.7/dist-packages (from requests>=2.20->yfinance) (1.24.3)\n",
            "Requirement already satisfied, skipping upgrade: six>=1.5 in /usr/local/lib/python3.7/dist-packages (from python-dateutil>=2.7.3->pandas>=0.24->yfinance) (1.15.0)\n",
            "Building wheels for collected packages: yfinance\n",
            "  Building wheel for yfinance (setup.py) ... \u001b[?25l\u001b[?25hdone\n",
            "  Created wheel for yfinance: filename=yfinance-0.1.59-py2.py3-none-any.whl size=23442 sha256=89550fbb8865c6c95d9039865622528fcf432c83767e9d881ba46b7aca139bb8\n",
            "  Stored in directory: /tmp/pip-ephem-wheel-cache-m7fbs6v8/wheels/f8/2a/0f/4b5a86e1d52e451757eb6bc17fd899629f0925c777741b6d04\n",
            "Successfully built yfinance\n",
            "Installing collected packages: lxml, yfinance\n",
            "  Found existing installation: lxml 4.2.6\n",
            "    Uninstalling lxml-4.2.6:\n",
            "      Successfully uninstalled lxml-4.2.6\n",
            "Successfully installed lxml-4.6.3 yfinance-0.1.59\n"
          ],
          "name": "stdout"
        }
      ]
    },
    {
      "cell_type": "code",
      "metadata": {
        "colab": {
          "base_uri": "https://localhost:8080/"
        },
        "id": "MrUhqxXiVRyi",
        "outputId": "59753f94-9af2-4015-c7a7-027085e63d2a"
      },
      "source": [
        "!pip install -U \"scikit-learn==0.23.1\""
      ],
      "execution_count": null,
      "outputs": [
        {
          "output_type": "stream",
          "text": [
            "Collecting scikit-learn==0.23.1\n",
            "\u001b[?25l  Downloading https://files.pythonhosted.org/packages/b8/7e/74e707b66490d4eb05f702966ad0990881127acecf9d5cdcef3c95ec6c16/scikit_learn-0.23.1-cp37-cp37m-manylinux1_x86_64.whl (6.8MB)\n",
            "\u001b[K     |████████████████████████████████| 6.8MB 5.7MB/s \n",
            "\u001b[?25hRequirement already satisfied, skipping upgrade: numpy>=1.13.3 in /usr/local/lib/python3.7/dist-packages (from scikit-learn==0.23.1) (1.19.5)\n",
            "Collecting threadpoolctl>=2.0.0\n",
            "  Downloading https://files.pythonhosted.org/packages/f7/12/ec3f2e203afa394a149911729357aa48affc59c20e2c1c8297a60f33f133/threadpoolctl-2.1.0-py3-none-any.whl\n",
            "Requirement already satisfied, skipping upgrade: joblib>=0.11 in /usr/local/lib/python3.7/dist-packages (from scikit-learn==0.23.1) (1.0.1)\n",
            "Requirement already satisfied, skipping upgrade: scipy>=0.19.1 in /usr/local/lib/python3.7/dist-packages (from scikit-learn==0.23.1) (1.4.1)\n",
            "Installing collected packages: threadpoolctl, scikit-learn\n",
            "  Found existing installation: scikit-learn 0.22.2.post1\n",
            "    Uninstalling scikit-learn-0.22.2.post1:\n",
            "      Successfully uninstalled scikit-learn-0.22.2.post1\n",
            "Successfully installed scikit-learn-0.23.1 threadpoolctl-2.1.0\n"
          ],
          "name": "stdout"
        }
      ]
    },
    {
      "cell_type": "code",
      "metadata": {
        "id": "ZH54fwWxVUi6"
      },
      "source": [
        "from pandas_datareader import data as pdr\n",
        "from datetime import date\n",
        "import yfinance as yf\n",
        "yf.pdr_override()\n",
        "import pandas as pd\n",
        "import numpy as np\n",
        "import seaborn as sns\n",
        "import matplotlib.pyplot as plt\n",
        "\n",
        "import os.path\n",
        "from os import path"
      ],
      "execution_count": null,
      "outputs": []
    },
    {
      "cell_type": "code",
      "metadata": {
        "colab": {
          "base_uri": "https://localhost:8080/"
        },
        "id": "p7kPGL0VVUqy",
        "outputId": "e4743cd2-deef-4a1a-beee-b5900b083017"
      },
      "source": [
        "ticker_list=['BRK-B','BRK-A','MSFT','AAPL']\n",
        "today = date.today()\n",
        "l = len(ticker_list)\n",
        "df_dict = {} # creating a dictionay for the data\n",
        "files=[]\n",
        "sector=[]\n",
        "for i in range(0,l):\n",
        "  sector = yf.Ticker(ticker_list[i]).info['sector']\n",
        "  if path.exists('./'+sector) == False:\n",
        "    os.mkdir('./'+sector)\n",
        "  else:\n",
        "    print(\"folder already exist\");\n",
        "\n",
        "def getData(ticker):\n",
        "  print(ticker)\n",
        "  data = pdr.get_data_yahoo(ticker, start=\"2020-01-01\", end=today).reset_index()\n",
        "  data['Symbol'] = ticker \n",
        "  data['percentage Change'] = data['Adj Close'].pct_change().dropna()\n",
        "  \n",
        "  df_dict[ticker] = data # storing the data frames in the dictionary\n",
        "  dataname= ticker+'_'+str(today)\n",
        "  files.append(dataname)\n",
        "  SaveData(data, dataname,yf.Ticker(ticker).info['sector'])\n",
        "\n",
        "\n",
        "  \n",
        "def SaveData(df, filename,sector):\n",
        "  if (sector == 'Financial Services'):\n",
        "    df.to_csv('./Financial Services/'+filename+'.csv')\n",
        "  elif (sector == 'Technology'):\n",
        "    df.to_csv('./Technology/'+filename+'.csv')\n",
        "  else:\n",
        "    print(\"sector is not being considered\");\n",
        "\n",
        "for ticker in ticker_list:\n",
        "  getData(ticker)"
      ],
      "execution_count": null,
      "outputs": [
        {
          "output_type": "stream",
          "text": [
            "folder already exist\n",
            "folder already exist\n",
            "BRK-B\n",
            "[*********************100%***********************]  1 of 1 completed\n",
            "BRK-A\n",
            "[*********************100%***********************]  1 of 1 completed\n",
            "MSFT\n",
            "[*********************100%***********************]  1 of 1 completed\n",
            "AAPL\n",
            "[*********************100%***********************]  1 of 1 completed\n"
          ],
          "name": "stdout"
        }
      ]
    },
    {
      "cell_type": "code",
      "metadata": {
        "id": "diyW4zOdVzWO"
      },
      "source": [
        "\n",
        "# df_dict['BRK-A'][\"prevClose\"] = df_dict['BRK-A'].Close.shift(1)\n",
        "# df_dict['BRK-A']['change'] = df_dict['BRK-A'][['Open','prevClose']].pct_change(axis=1)['Close']\n"
      ],
      "execution_count": null,
      "outputs": []
    },
    {
      "cell_type": "code",
      "metadata": {
        "colab": {
          "base_uri": "https://localhost:8080/"
        },
        "id": "uDdN_tR88FSS",
        "outputId": "f5fbfb07-abfb-4f6b-ec07-0700bbd777ae"
      },
      "source": [
        "df_dict['AAPL'].tail\n"
      ],
      "execution_count": null,
      "outputs": [
        {
          "output_type": "execute_result",
          "data": {
            "text/plain": [
              "<bound method NDFrame.tail of           Date        Open        High  ...     Volume  Symbol  percentage Change\n",
              "0   2020-01-02   74.059998   75.150002  ...  135480400    AAPL                NaN\n",
              "1   2020-01-03   74.287498   75.144997  ...  146322800    AAPL          -0.009722\n",
              "2   2020-01-06   73.447502   74.989998  ...  118387200    AAPL           0.007968\n",
              "3   2020-01-07   74.959999   75.224998  ...  108872000    AAPL          -0.004703\n",
              "4   2020-01-08   74.290001   76.110001  ...  132079200    AAPL           0.016086\n",
              "..         ...         ...         ...  ...        ...     ...                ...\n",
              "322 2021-04-14  134.940002  135.000000  ...   87222800    AAPL          -0.017853\n",
              "323 2021-04-15  133.820007  135.000000  ...   89347100    AAPL           0.018708\n",
              "324 2021-04-16  134.300003  134.669998  ...   84818500    AAPL          -0.002528\n",
              "325 2021-04-19  133.509995  135.470001  ...   93996100    AAPL           0.005069\n",
              "326 2021-04-20  135.020004  135.529999  ...   94811349    AAPL          -0.012830\n",
              "\n",
              "[327 rows x 9 columns]>"
            ]
          },
          "metadata": {
            "tags": []
          },
          "execution_count": 19
        }
      ]
    },
    {
      "cell_type": "code",
      "metadata": {
        "id": "9htEakesXgGt"
      },
      "source": [
        "# df_corr = {}\n",
        "# company =['MSFT','AAPL']\n",
        "# l = len(company)\n",
        "# for i in range(0,l):\n",
        "#   df = df_dict['BRK-A'][['Close', 'Symbol']]\n",
        "#   df_corr[ticker] =df"
      ],
      "execution_count": null,
      "outputs": []
    },
    {
      "cell_type": "code",
      "metadata": {
        "id": "r5FyBPlyYnAE"
      },
      "source": [
        "df_corr = {}\n",
        "for ticker in ticker_list:\n",
        "  df_corr[ticker] = df_dict[ticker][['Date','percentage Change', 'Symbol']]\n",
        "  \n",
        "\n"
      ],
      "execution_count": null,
      "outputs": []
    },
    {
      "cell_type": "code",
      "metadata": {
        "colab": {
          "base_uri": "https://localhost:8080/",
          "height": 204
        },
        "id": "1YUTgtkWY1Zq",
        "outputId": "3e95649e-307e-4f6d-e122-65c292305d26"
      },
      "source": [
        "df_corr['MSFT'].head()"
      ],
      "execution_count": null,
      "outputs": [
        {
          "output_type": "execute_result",
          "data": {
            "text/html": [
              "<div>\n",
              "<style scoped>\n",
              "    .dataframe tbody tr th:only-of-type {\n",
              "        vertical-align: middle;\n",
              "    }\n",
              "\n",
              "    .dataframe tbody tr th {\n",
              "        vertical-align: top;\n",
              "    }\n",
              "\n",
              "    .dataframe thead th {\n",
              "        text-align: right;\n",
              "    }\n",
              "</style>\n",
              "<table border=\"1\" class=\"dataframe\">\n",
              "  <thead>\n",
              "    <tr style=\"text-align: right;\">\n",
              "      <th></th>\n",
              "      <th>Date</th>\n",
              "      <th>percentage Change</th>\n",
              "      <th>Symbol</th>\n",
              "    </tr>\n",
              "  </thead>\n",
              "  <tbody>\n",
              "    <tr>\n",
              "      <th>0</th>\n",
              "      <td>2020-01-02</td>\n",
              "      <td>NaN</td>\n",
              "      <td>MSFT</td>\n",
              "    </tr>\n",
              "    <tr>\n",
              "      <th>1</th>\n",
              "      <td>2020-01-03</td>\n",
              "      <td>-0.012452</td>\n",
              "      <td>MSFT</td>\n",
              "    </tr>\n",
              "    <tr>\n",
              "      <th>2</th>\n",
              "      <td>2020-01-06</td>\n",
              "      <td>0.002585</td>\n",
              "      <td>MSFT</td>\n",
              "    </tr>\n",
              "    <tr>\n",
              "      <th>3</th>\n",
              "      <td>2020-01-07</td>\n",
              "      <td>-0.009118</td>\n",
              "      <td>MSFT</td>\n",
              "    </tr>\n",
              "    <tr>\n",
              "      <th>4</th>\n",
              "      <td>2020-01-08</td>\n",
              "      <td>0.015928</td>\n",
              "      <td>MSFT</td>\n",
              "    </tr>\n",
              "  </tbody>\n",
              "</table>\n",
              "</div>"
            ],
            "text/plain": [
              "        Date  percentage Change Symbol\n",
              "0 2020-01-02                NaN   MSFT\n",
              "1 2020-01-03          -0.012452   MSFT\n",
              "2 2020-01-06           0.002585   MSFT\n",
              "3 2020-01-07          -0.009118   MSFT\n",
              "4 2020-01-08           0.015928   MSFT"
            ]
          },
          "metadata": {
            "tags": []
          },
          "execution_count": 9
        }
      ]
    },
    {
      "cell_type": "code",
      "metadata": {
        "id": "1xF_CzQWeTJ6"
      },
      "source": [
        "\n",
        "\n",
        "result = pd.concat([df_corr['BRK-A'],df_corr['BRK-B'],df_corr['MSFT'], df_corr['AAPL']], axis=0)\n",
        "\n",
        "\n"
      ],
      "execution_count": null,
      "outputs": []
    },
    {
      "cell_type": "code",
      "metadata": {
        "colab": {
          "base_uri": "https://localhost:8080/",
          "height": 204
        },
        "id": "762-U8I1kuOH",
        "outputId": "b0859f46-4a5e-458b-9338-e28515132d3c"
      },
      "source": [
        "df_pivot = result.pivot('Date','Symbol','percentage Change').reset_index()\n",
        "\n",
        "df_pivot.head()"
      ],
      "execution_count": null,
      "outputs": [
        {
          "output_type": "execute_result",
          "data": {
            "text/html": [
              "<div>\n",
              "<style scoped>\n",
              "    .dataframe tbody tr th:only-of-type {\n",
              "        vertical-align: middle;\n",
              "    }\n",
              "\n",
              "    .dataframe tbody tr th {\n",
              "        vertical-align: top;\n",
              "    }\n",
              "\n",
              "    .dataframe thead th {\n",
              "        text-align: right;\n",
              "    }\n",
              "</style>\n",
              "<table border=\"1\" class=\"dataframe\">\n",
              "  <thead>\n",
              "    <tr style=\"text-align: right;\">\n",
              "      <th>Symbol</th>\n",
              "      <th>Date</th>\n",
              "      <th>AAPL</th>\n",
              "      <th>BRK-A</th>\n",
              "      <th>BRK-B</th>\n",
              "      <th>MSFT</th>\n",
              "    </tr>\n",
              "  </thead>\n",
              "  <tbody>\n",
              "    <tr>\n",
              "      <th>0</th>\n",
              "      <td>2020-01-02</td>\n",
              "      <td>NaN</td>\n",
              "      <td>NaN</td>\n",
              "      <td>NaN</td>\n",
              "      <td>NaN</td>\n",
              "    </tr>\n",
              "    <tr>\n",
              "      <th>1</th>\n",
              "      <td>2020-01-03</td>\n",
              "      <td>-0.009722</td>\n",
              "      <td>-0.009075</td>\n",
              "      <td>-0.009676</td>\n",
              "      <td>-0.012452</td>\n",
              "    </tr>\n",
              "    <tr>\n",
              "      <th>2</th>\n",
              "      <td>2020-01-06</td>\n",
              "      <td>0.007968</td>\n",
              "      <td>0.003111</td>\n",
              "      <td>0.003581</td>\n",
              "      <td>0.002585</td>\n",
              "    </tr>\n",
              "    <tr>\n",
              "      <th>3</th>\n",
              "      <td>2020-01-07</td>\n",
              "      <td>-0.004703</td>\n",
              "      <td>-0.003848</td>\n",
              "      <td>-0.004714</td>\n",
              "      <td>-0.009118</td>\n",
              "    </tr>\n",
              "    <tr>\n",
              "      <th>4</th>\n",
              "      <td>2020-01-08</td>\n",
              "      <td>0.016086</td>\n",
              "      <td>0.000847</td>\n",
              "      <td>0.000310</td>\n",
              "      <td>0.015928</td>\n",
              "    </tr>\n",
              "  </tbody>\n",
              "</table>\n",
              "</div>"
            ],
            "text/plain": [
              "Symbol       Date      AAPL     BRK-A     BRK-B      MSFT\n",
              "0      2020-01-02       NaN       NaN       NaN       NaN\n",
              "1      2020-01-03 -0.009722 -0.009075 -0.009676 -0.012452\n",
              "2      2020-01-06  0.007968  0.003111  0.003581  0.002585\n",
              "3      2020-01-07 -0.004703 -0.003848 -0.004714 -0.009118\n",
              "4      2020-01-08  0.016086  0.000847  0.000310  0.015928"
            ]
          },
          "metadata": {
            "tags": []
          },
          "execution_count": 11
        }
      ]
    },
    {
      "cell_type": "code",
      "metadata": {
        "colab": {
          "base_uri": "https://localhost:8080/",
          "height": 204
        },
        "id": "ipx62e_Nk7Nt",
        "outputId": "ed7e3a2e-1795-4636-b596-da11d3445da6"
      },
      "source": [
        "corr_df = df_pivot.corr(method='pearson')\n",
        "corr_df.head().reset_index()\n",
        "corr_df.head(10)"
      ],
      "execution_count": null,
      "outputs": [
        {
          "output_type": "execute_result",
          "data": {
            "text/html": [
              "<div>\n",
              "<style scoped>\n",
              "    .dataframe tbody tr th:only-of-type {\n",
              "        vertical-align: middle;\n",
              "    }\n",
              "\n",
              "    .dataframe tbody tr th {\n",
              "        vertical-align: top;\n",
              "    }\n",
              "\n",
              "    .dataframe thead th {\n",
              "        text-align: right;\n",
              "    }\n",
              "</style>\n",
              "<table border=\"1\" class=\"dataframe\">\n",
              "  <thead>\n",
              "    <tr style=\"text-align: right;\">\n",
              "      <th>Symbol</th>\n",
              "      <th>AAPL</th>\n",
              "      <th>BRK-A</th>\n",
              "      <th>BRK-B</th>\n",
              "      <th>MSFT</th>\n",
              "    </tr>\n",
              "    <tr>\n",
              "      <th>Symbol</th>\n",
              "      <th></th>\n",
              "      <th></th>\n",
              "      <th></th>\n",
              "      <th></th>\n",
              "    </tr>\n",
              "  </thead>\n",
              "  <tbody>\n",
              "    <tr>\n",
              "      <th>AAPL</th>\n",
              "      <td>1.000000</td>\n",
              "      <td>0.565822</td>\n",
              "      <td>0.601184</td>\n",
              "      <td>0.824110</td>\n",
              "    </tr>\n",
              "    <tr>\n",
              "      <th>BRK-A</th>\n",
              "      <td>0.565822</td>\n",
              "      <td>1.000000</td>\n",
              "      <td>0.971402</td>\n",
              "      <td>0.608261</td>\n",
              "    </tr>\n",
              "    <tr>\n",
              "      <th>BRK-B</th>\n",
              "      <td>0.601184</td>\n",
              "      <td>0.971402</td>\n",
              "      <td>1.000000</td>\n",
              "      <td>0.655064</td>\n",
              "    </tr>\n",
              "    <tr>\n",
              "      <th>MSFT</th>\n",
              "      <td>0.824110</td>\n",
              "      <td>0.608261</td>\n",
              "      <td>0.655064</td>\n",
              "      <td>1.000000</td>\n",
              "    </tr>\n",
              "  </tbody>\n",
              "</table>\n",
              "</div>"
            ],
            "text/plain": [
              "Symbol      AAPL     BRK-A     BRK-B      MSFT\n",
              "Symbol                                        \n",
              "AAPL    1.000000  0.565822  0.601184  0.824110\n",
              "BRK-A   0.565822  1.000000  0.971402  0.608261\n",
              "BRK-B   0.601184  0.971402  1.000000  0.655064\n",
              "MSFT    0.824110  0.608261  0.655064  1.000000"
            ]
          },
          "metadata": {
            "tags": []
          },
          "execution_count": 14
        }
      ]
    },
    {
      "cell_type": "code",
      "metadata": {
        "colab": {
          "base_uri": "https://localhost:8080/",
          "height": 303
        },
        "id": "fBlXnGy9ldeq",
        "outputId": "529b6dbb-57a2-4749-9100-f517879af172"
      },
      "source": [
        "mask = np.zeros_like(corr_df) # returns the an array of zeros with the same shape \n",
        "\n",
        "mask[np.triu_indices_from(mask)] = True # Generate a mask for the upper triangle\n",
        "\n",
        "sns.heatmap(corr_df, cmap='RdYlGn', vmax=1.0, vmin=-1.0 , mask = mask, linewidths=2.5)\n",
        "\n",
        "plt.yticks(rotation=0) \n",
        "\n",
        "plt.xticks(rotation=90) \n",
        "plt.show()"
      ],
      "execution_count": null,
      "outputs": [
        {
          "output_type": "display_data",
          "data": {
            "image/png": "[encoded data removed]",
            "text/plain": [
              "<Figure size 432x288 with 2 Axes>"
            ]
          },
          "metadata": {
            "tags": [],
            "needs_background": "light"
          }
        }
      ]
    },
    {
      "cell_type": "markdown",
      "metadata": {
        "id": "4ogNzleqqQWS"
      },
      "source": [
        "lagged cosscorrelation"
      ]
    },
    {
      "cell_type": "code",
      "metadata": {
        "id": "dunb-ycuk2Kf"
      },
      "source": [
        "def crosscorr(companyx, companyy, lag=0):\n",
        "    \"\"\" \n",
        "    Lag-N cross correlation. \n",
        "    \n",
        "    lag is the no of days it is lagged\n",
        "\n",
        "    \"\"\"\n",
        "    return companyx.corr(companyy.shift(lag))"
      ],
      "execution_count": null,
      "outputs": []
    },
    {
      "cell_type": "code",
      "metadata": {
        "id": "pRp5jVGtlMja"
      },
      "source": [
        " xcrosscorr_days = [crosscorr(df_dict['BRK-A']['percentage Change'], df_dict['BRK-B']['percentage Change'], lag=i) for i in range(100)]"
      ],
      "execution_count": null,
      "outputs": []
    },
    {
      "cell_type": "code",
      "metadata": {
        "colab": {
          "base_uri": "https://localhost:8080/"
        },
        "id": "_ZVUSESPlbmL",
        "outputId": "5b68f50e-f950-4830-b80a-f943d0704956"
      },
      "source": [
        "max_value = max( xcrosscorr_days)\n",
        "print(\"The highest corelation on between \",yf.Ticker(\"BRK-A\").info['longName'] ,\"and\", yf.Ticker(\"BRK-B\").info['longName'],\"is\",max_value)"
      ],
      "execution_count": null,
      "outputs": [
        {
          "output_type": "stream",
          "text": [
            "The highest corelation on between  Berkshire Hathaway Inc. and Berkshire Hathaway Inc. is 0.9714021788013139\n"
          ],
          "name": "stdout"
        }
      ]
    },
    {
      "cell_type": "code",
      "metadata": {
        "colab": {
          "base_uri": "https://localhost:8080/"
        },
        "id": "r6ruZKtzpDnM",
        "outputId": "f0434e1a-e562-4c15-8c96-c8a671b0b712"
      },
      "source": [
        " max_index =  xcrosscorr_days.index(max_value)\n",
        "print(\"The highest corelation lag days between \",yf.Ticker(\"BRK-A\").info['longName'] ,\"and\", yf.Ticker(\"BRK-B\").info['longName'],\"is\",max_index)"
      ],
      "execution_count": null,
      "outputs": [
        {
          "output_type": "stream",
          "text": [
            "The highest corelation lag days between  Berkshire Hathaway Inc. and Berkshire Hathaway Inc. is 0\n"
          ],
          "name": "stdout"
        }
      ]
    }
  ]
}